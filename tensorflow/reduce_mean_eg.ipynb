{
 "cells": [
  {
   "cell_type": "markdown",
   "metadata": {},
   "source": [
    "tf.reduce_mean(input_tensor, axis=None, keep_dims=False, name=None, reduction_indices=None)\n",
    "\n",
    "See the guide: Math > Reduction\n",
    "\n",
    "Computes the mean of elements across dimensions of a tensor.\n",
    "\n",
    "Reduces input_tensor along the dimensions given in axis. Unless keep_dims is true, the rank of the tensor is reduced by 1 for each entry in axis. If keep_dims is true, the reduced dimensions are retained with length 1.\n",
    "\n",
    "If axis has no entries, all dimensions are reduced, and a tensor with a single element is returned.\n",
    "Args:\n",
    "\n",
    "\n",
    "- input_tensor: The tensor to reduce. Should have numeric type.\n",
    "- axis: The dimensions to reduce. If None (the default), reduces all dimensions.\n",
    "- keep_dims: If true, retains reduced dimensions with length 1.\n",
    "- name: A name for the operation (optional).\n",
    "- reduction_indices: The old (deprecated) name for axis."
   ]
  },
  {
   "cell_type": "code",
   "execution_count": 20,
   "metadata": {
    "collapsed": false
   },
   "outputs": [],
   "source": [
    "import tensorflow as tf\n",
    "x = tf.Variable([\n",
    "    [1., 1., 1.],\n",
    "    [2., 2., 2.],\n",
    "    [3., 3., 3.]\n",
    "])\n",
    "\n"
   ]
  },
  {
   "cell_type": "code",
   "execution_count": null,
   "metadata": {
    "collapsed": true
   },
   "outputs": [],
   "source": [
    "不传入axis，默认对"
   ]
  },
  {
   "cell_type": "code",
   "execution_count": null,
   "metadata": {
    "collapsed": true
   },
   "outputs": [],
   "source": [
    "with tf.Session() as sess:\n",
    "    tf.global_variables_initializer().run()\n",
    "    print(sess.run(tf.reduce_mean(x, 1)))"
   ]
  }
 ],
 "metadata": {
  "kernelspec": {
   "display_name": "Python 3",
   "language": "python",
   "name": "python3"
  },
  "language_info": {
   "codemirror_mode": {
    "name": "ipython",
    "version": 3
   },
   "file_extension": ".py",
   "mimetype": "text/x-python",
   "name": "python",
   "nbconvert_exporter": "python",
   "pygments_lexer": "ipython3",
   "version": "3.5.3"
  }
 },
 "nbformat": 4,
 "nbformat_minor": 2
}
