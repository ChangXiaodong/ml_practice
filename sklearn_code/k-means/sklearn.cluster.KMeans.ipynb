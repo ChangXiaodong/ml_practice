{
 "cells": [
  {
   "cell_type": "markdown",
   "metadata": {},
   "source": [
    "class KMeans(BaseEstimator, ClusterMixin, TransformerMixin):\n",
    "\n",
    "Parameters:\n",
    "\n",
    "    n_clusters:k个数\n",
    "    max_iter：最大迭代次数\n",
    "    n_init： 用不同随机数初始化k，计算n_init次k-means，返回类内误差最小的中心点，类内误差和其他一些参数\n",
    "    init:初始化中心点的方式，k-means++, random 或 制定array\n",
    "    algorithm：计算means的算法，full或elkan\n",
    "    precompute_distances：可以加快速度，但是会占用内存\n",
    "    tol：收敛判断阈值\n",
    "    n_jobs：并行cpu数量\n",
    "    random_state：产生随机数的种子\n",
    "    verbose：输出训练过程信息\n",
    "    copy_x：precompute时是否能够修改原始数据\n",
    "Attributes：\n",
    "\n",
    "    cluster_centers_ :中心点坐标\n",
    "    labels_ ：每个点的labels\n",
    "    inertia_ ：类内平方误差和"
   ]
  },
  {
   "cell_type": "markdown",
   "metadata": {},
   "source": []
  }
 ],
 "metadata": {
  "kernelspec": {
   "display_name": "Python 3",
   "language": "python",
   "name": "python3"
  },
  "language_info": {
   "codemirror_mode": {
    "name": "ipython",
    "version": 3.0
   },
   "file_extension": ".py",
   "mimetype": "text/x-python",
   "name": "python",
   "nbconvert_exporter": "python",
   "pygments_lexer": "ipython3",
   "version": "3.5.3"
  }
 },
 "nbformat": 4,
 "nbformat_minor": 0
}